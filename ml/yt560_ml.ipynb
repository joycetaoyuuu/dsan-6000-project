{
 "cells": [
  {
   "cell_type": "markdown",
   "id": "0cbee9b2-3acd-42a5-bb08-4d5fb1680740",
   "metadata": {},
   "source": [
    "## Machine Learning\n",
    "\n",
    "### Spark setups"
   ]
  },
  {
   "cell_type": "code",
   "execution_count": 2,
   "id": "7d3a926a-dec6-4105-b600-80d82e3adfb2",
   "metadata": {
    "tags": []
   },
   "outputs": [
    {
     "name": "stdout",
     "output_type": "stream",
     "text": [
      "Collecting package metadata (current_repodata.json): done\n",
      "Solving environment: done\n",
      "\n",
      "\n",
      "==> WARNING: A newer version of conda exists. <==\n",
      "  current version: 23.3.1\n",
      "  latest version: 23.10.0\n",
      "\n",
      "Please update conda by running\n",
      "\n",
      "    $ conda update -n base -c defaults conda\n",
      "\n",
      "Or to minimize the number of packages updated during conda update use\n",
      "\n",
      "     conda install conda=23.10.0\n",
      "\n",
      "\n",
      "\n",
      "# All requested packages already installed.\n",
      "\n",
      "\n",
      "Note: you may need to restart the kernel to use updated packages.\n",
      "Requirement already satisfied: pyspark==3.3.0 in /opt/conda/lib/python3.10/site-packages (3.3.0)\n",
      "Requirement already satisfied: py4j==0.10.9.5 in /opt/conda/lib/python3.10/site-packages (from pyspark==3.3.0) (0.10.9.5)\n",
      "\u001b[33mWARNING: Running pip as the 'root' user can result in broken permissions and conflicting behaviour with the system package manager. It is recommended to use a virtual environment instead: https://pip.pypa.io/warnings/venv\u001b[0m\u001b[33m\n",
      "\u001b[0m\n",
      "\u001b[1m[\u001b[0m\u001b[34;49mnotice\u001b[0m\u001b[1;39;49m]\u001b[0m\u001b[39;49m A new release of pip is available: \u001b[0m\u001b[31;49m23.2.1\u001b[0m\u001b[39;49m -> \u001b[0m\u001b[32;49m23.3.1\u001b[0m\n",
      "\u001b[1m[\u001b[0m\u001b[34;49mnotice\u001b[0m\u001b[1;39;49m]\u001b[0m\u001b[39;49m To update, run: \u001b[0m\u001b[32;49mpip install --upgrade pip\u001b[0m\n",
      "Note: you may need to restart the kernel to use updated packages.\n"
     ]
    },
    {
     "data": {
      "text/html": [
       "<script>Jupyter.notebook.kernel.restart()</script>"
      ],
      "text/plain": [
       "<IPython.core.display.HTML object>"
      ]
     },
     "execution_count": 2,
     "metadata": {},
     "output_type": "execute_result"
    }
   ],
   "source": [
    "# Setup - Run only once per Kernel App\n",
    "%conda install openjdk -y\n",
    "\n",
    "# install PySpark\n",
    "%pip install pyspark==3.3.0\n",
    "\n",
    "# restart kernel\n",
    "from IPython.core.display import HTML\n",
    "HTML(\"<script>Jupyter.notebook.kernel.restart()</script>\")"
   ]
  },
  {
   "cell_type": "code",
   "execution_count": 3,
   "id": "f4363206-1a96-4ed1-8df7-edd8c0e05b87",
   "metadata": {
    "tags": []
   },
   "outputs": [
    {
     "name": "stderr",
     "output_type": "stream",
     "text": [
      "Warning: Ignoring non-Spark config property: fs.s3a.aws.credentials.provider\n"
     ]
    },
    {
     "name": "stdout",
     "output_type": "stream",
     "text": [
      ":: loading settings :: url = jar:file:/opt/conda/lib/python3.10/site-packages/pyspark/jars/ivy-2.5.0.jar!/org/apache/ivy/core/settings/ivysettings.xml\n"
     ]
    },
    {
     "name": "stderr",
     "output_type": "stream",
     "text": [
      "Ivy Default Cache set to: /root/.ivy2/cache\n",
      "The jars for the packages stored in: /root/.ivy2/jars\n",
      "org.apache.hadoop#hadoop-aws added as a dependency\n",
      ":: resolving dependencies :: org.apache.spark#spark-submit-parent-2503ff9b-bebd-4b7c-80b4-d0e587a86a0f;1.0\n",
      "\tconfs: [default]\n",
      "\tfound org.apache.hadoop#hadoop-aws;3.2.2 in central\n",
      "\tfound com.amazonaws#aws-java-sdk-bundle;1.11.563 in central\n",
      ":: resolution report :: resolve 402ms :: artifacts dl 40ms\n",
      "\t:: modules in use:\n",
      "\tcom.amazonaws#aws-java-sdk-bundle;1.11.563 from central in [default]\n",
      "\torg.apache.hadoop#hadoop-aws;3.2.2 from central in [default]\n",
      "\t---------------------------------------------------------------------\n",
      "\t|                  |            modules            ||   artifacts   |\n",
      "\t|       conf       | number| search|dwnlded|evicted|| number|dwnlded|\n",
      "\t---------------------------------------------------------------------\n",
      "\t|      default     |   2   |   0   |   0   |   0   ||   2   |   0   |\n",
      "\t---------------------------------------------------------------------\n",
      ":: retrieving :: org.apache.spark#spark-submit-parent-2503ff9b-bebd-4b7c-80b4-d0e587a86a0f\n",
      "\tconfs: [default]\n",
      "\t0 artifacts copied, 2 already retrieved (0kB/17ms)\n"
     ]
    },
    {
     "name": "stdout",
     "output_type": "stream",
     "text": [
      "23/11/30 02:29:54 WARN NativeCodeLoader: Unable to load native-hadoop library for your platform... using builtin-java classes where applicable\n"
     ]
    },
    {
     "name": "stderr",
     "output_type": "stream",
     "text": [
      "Setting default log level to \"WARN\".\n",
      "To adjust logging level use sc.setLogLevel(newLevel). For SparkR, use setLogLevel(newLevel).\n"
     ]
    },
    {
     "name": "stdout",
     "output_type": "stream",
     "text": [
      "3.3.0\n"
     ]
    }
   ],
   "source": [
    "# start spark session\n",
    "from pyspark.sql import SparkSession\n",
    "\n",
    "spark = (\n",
    "    SparkSession.builder.appName(\"PySparkApp\")\n",
    "    .config(\"spark.jars.packages\", \"org.apache.hadoop:hadoop-aws:3.2.2\")\n",
    "    .config(\n",
    "        \"fs.s3a.aws.credentials.provider\",\n",
    "        \"com.amazonaws.auth.ContainerCredentialsProvider\",\n",
    "    )\n",
    "    .getOrCreate()\n",
    ")\n",
    "\n",
    "print(spark.version)"
   ]
  },
  {
   "cell_type": "code",
   "execution_count": 48,
   "id": "6dc1ba3f-42d8-4ec9-8e0c-b3c84b6d7457",
   "metadata": {
    "tags": []
   },
   "outputs": [],
   "source": [
    "bucket = 'dsan-6000-group-35'\n",
    "submissions = spark.read.parquet(f\"s3a://{bucket}/submissions_with_sentiment.parquet\")\n",
    "#comments = spark.read.parquet(f\"s3a://{bucket}/comments_with_sentiment.parquet\")"
   ]
  },
  {
   "cell_type": "code",
   "execution_count": 49,
   "id": "f3858092-3b40-4b35-8b5b-ca40544ea3dd",
   "metadata": {
    "tags": []
   },
   "outputs": [
    {
     "name": "stdout",
     "output_type": "stream",
     "text": [
      "root\n",
      " |-- year: integer (nullable = true)\n",
      " |-- month: integer (nullable = true)\n",
      " |-- subreddit: string (nullable = true)\n",
      " |-- id: string (nullable = true)\n",
      " |-- author: string (nullable = true)\n",
      " |-- created_utc: timestamp (nullable = true)\n",
      " |-- text: string (nullable = true)\n",
      " |-- num_comments: long (nullable = true)\n",
      " |-- num_crossposts: long (nullable = true)\n",
      " |-- score: long (nullable = true)\n",
      " |-- is_self: boolean (nullable = true)\n",
      " |-- stickied: boolean (nullable = true)\n",
      " |-- sentiment: string (nullable = true)\n",
      "\n"
     ]
    }
   ],
   "source": [
    "submissions.printSchema()"
   ]
  },
  {
   "cell_type": "markdown",
   "id": "0f9f530a-9e18-41df-979a-1112b63a2c36",
   "metadata": {},
   "source": [
    "## Predicting Taylor Swift Submissions Popularity Using Machine Learning Models"
   ]
  },
  {
   "cell_type": "code",
   "execution_count": 50,
   "id": "74feec1d-5c31-48de-8bc0-550ed7524cf7",
   "metadata": {},
   "outputs": [],
   "source": [
    "from pyspark.ml import Pipeline\n",
    "from pyspark.ml.feature import CountVectorizer,RegexTokenizer,StopWordsRemover,VectorAssembler, StringIndexer, OneHotEncoder, MinMaxScaler\n",
    "from pyspark.ml.regression import DecisionTreeRegressor,RandomForestRegressor,GBTRegressor,GeneralizedLinearRegression\n",
    "from pyspark.ml.evaluation import RegressionEvaluator\n",
    "#from pyspark.ml.tuning import ParamGridBuilder, CrossValidator\n",
    "\n",
    "import pyspark.sql.functions as f"
   ]
  },
  {
   "cell_type": "code",
   "execution_count": 109,
   "id": "b2962f95-f484-4cc7-8830-6801a0e702dc",
   "metadata": {
    "tags": []
   },
   "outputs": [],
   "source": [
    "# get hour data as one variable\n",
    "\n",
    "submissions = submissions.filter(f.col('subreddit')=='TaylorSwift')\n",
    "\n",
    "submissions = submissions.withColumn('hour', f.hour('created_utc'))\\\n",
    ".withColumn('is_self',f.col('is_self').cast('string'))\\\n",
    ".withColumn('stickied',f.col('stickied').cast('string'))\\\n",
    ".withColumn('num_comments',f.col('num_comments').cast('integer'))\\\n",
    ".withColumn('num_crossposts',f.col('num_crossposts').cast('integer'))\\\n",
    ".withColumn('text_length',f.length('text'))\n",
    "\n",
    "\n",
    "df = submissions.select('month','hour','num_comments','num_crossposts','score','is_self','stickied','sentiment','text_length')\n"
   ]
  },
  {
   "cell_type": "code",
   "execution_count": 52,
   "id": "d0a06b9d-bc48-4afe-be84-32964b76ef26",
   "metadata": {},
   "outputs": [],
   "source": [
    "# work on string columns\n",
    "\n",
    "# string to numeric indices\n",
    "\n",
    "stringIndexer_sentiment = StringIndexer(inputCol=\"sentiment\", outputCol=\"sentiment_idx\")\n",
    "stringIndexer_is_self = StringIndexer(inputCol=\"is_self\", outputCol=\"is_self_idx\")\n",
    "stringIndexer_stickied = StringIndexer(inputCol=\"stickied\", outputCol=\"stickied_idx\")\n",
    "\n",
    "\n",
    "# indicies to one-hot encoding\n",
    "\n",
    "onehot_sentiment = OneHotEncoder(inputCol=\"sentiment_idx\", outputCol=\"sentiment_vec\")\n",
    "onehot_is_self = OneHotEncoder(inputCol=\"is_self_idx\", outputCol=\"is_self_vec\")\n",
    "onehot_stickied = OneHotEncoder(inputCol=\"stickied_idx\", outputCol=\"stickied_vec\")\n"
   ]
  },
  {
   "cell_type": "code",
   "execution_count": 59,
   "id": "37622565-3c49-4644-8e77-ea30420d7e09",
   "metadata": {
    "tags": []
   },
   "outputs": [],
   "source": [
    "# Scale the features\n",
    "scaler = MinMaxScaler(inputCol = 'features', outputCol = 'features_norm')"
   ]
  },
  {
   "cell_type": "code",
   "execution_count": 60,
   "id": "6ff279ac-d381-4d4b-a69d-7df4993718fe",
   "metadata": {},
   "outputs": [],
   "source": [
    "# build features\n",
    "vector_assembler = VectorAssembler(\n",
    "    inputCols=[\"month\",\"hour\",\"num_comments\",\"num_crossposts\",\"is_self_vec\",\"stickied_vec\",\"sentiment_vec\",\"text_length\"], \n",
    "    outputCol= \"features\")"
   ]
  },
  {
   "cell_type": "code",
   "execution_count": 61,
   "id": "f8d61907-39df-4470-8552-2ce032d54034",
   "metadata": {
    "tags": []
   },
   "outputs": [],
   "source": [
    "# define the model\n",
    "model = RandomForestRegressor(labelCol=\"score\", featuresCol=\"features_norm\", numTrees=30)"
   ]
  },
  {
   "cell_type": "code",
   "execution_count": 62,
   "id": "ab93c5eb-e2c3-4ebe-9dc8-5f83f79ac236",
   "metadata": {
    "tags": []
   },
   "outputs": [],
   "source": [
    "# build the pipeline\n",
    "pipeline_model = Pipeline(stages=[stringIndexer_sentiment, \n",
    "                                  stringIndexer_is_self,\n",
    "                                  stringIndexer_stickied,\n",
    "                                  onehot_sentiment,\n",
    "                                  onehot_is_self,\n",
    "                                  onehot_stickied,\n",
    "                                  vector_assembler, \n",
    "                                  scaler,\n",
    "                                  model])"
   ]
  },
  {
   "cell_type": "code",
   "execution_count": 63,
   "id": "1a21658d-f53e-4dfc-bf82-e974a52cc773",
   "metadata": {
    "tags": []
   },
   "outputs": [],
   "source": [
    "# train test split\n",
    "train_data, test_data = df.randomSplit([0.8,0.2],123)"
   ]
  },
  {
   "cell_type": "code",
   "execution_count": 64,
   "id": "39b4bbc1-d191-4188-9ba9-89182392d926",
   "metadata": {
    "tags": []
   },
   "outputs": [
    {
     "name": "stderr",
     "output_type": "stream",
     "text": [
      "                                                                                \r"
     ]
    }
   ],
   "source": [
    "# fit data with random forest model\n",
    "model_1 = pipeline_model.fit(train_data)\n",
    "y_test_pred = model_1.transform(test_data)"
   ]
  },
  {
   "cell_type": "code",
   "execution_count": 65,
   "id": "5af23d0e-a29b-4ad7-a532-1e0cffb5d61d",
   "metadata": {
    "tags": []
   },
   "outputs": [],
   "source": [
    "# make predictions\n",
    "y_test_pred = model_1.transform(test_data)\n",
    "y_train_pred = model_1.transform(train_data)\n"
   ]
  },
  {
   "cell_type": "code",
   "execution_count": 66,
   "id": "9f4a7c7a-4d07-4049-96f2-49224281a34f",
   "metadata": {
    "tags": []
   },
   "outputs": [
    {
     "name": "stderr",
     "output_type": "stream",
     "text": [
      "                                                                                \r"
     ]
    }
   ],
   "source": [
    "# save rmse and r2 values\n",
    "rmse = []\n",
    "r2 = []\n",
    "\n",
    "evaluator = RegressionEvaluator(labelCol=\"score\", predictionCol=\"prediction\", metricName=\"rmse\")\n",
    "\n",
    "rf_rmse = evaluator.evaluate(y_test_pred)\n",
    "rmse.append(rf_rmse)\n",
    "\n",
    "\n",
    "evaluator = RegressionEvaluator(labelCol=\"score\", predictionCol=\"prediction\", metricName=\"r2\")\n",
    "rf_r2 = evaluator.evaluate(y_test_pred)\n",
    "r2.append(rf_r2)"
   ]
  },
  {
   "cell_type": "code",
   "execution_count": 68,
   "id": "6e33698b-c2be-4f59-821b-43d1b8420f1e",
   "metadata": {
    "tags": []
   },
   "outputs": [
    {
     "name": "stderr",
     "output_type": "stream",
     "text": [
      "                                                                                \r"
     ]
    }
   ],
   "source": [
    "# fit data with decision tree model\n",
    "model = DecisionTreeRegressor(labelCol=\"score\", featuresCol=\"features_norm\", maxDepth = 5)\n",
    "\n",
    "pipeline_model = Pipeline(stages=[stringIndexer_sentiment, \n",
    "                                  stringIndexer_is_self,\n",
    "                                  stringIndexer_stickied,\n",
    "                                  onehot_sentiment,\n",
    "                                  onehot_is_self,\n",
    "                                  onehot_stickied,\n",
    "                                  vector_assembler, \n",
    "                                  scaler,\n",
    "                                  model])\n",
    "\n",
    "model_2 = pipeline_model.fit(train_data)\n",
    "y_test_pred = model_2.transform(test_data)\n",
    "\n",
    "evaluator = RegressionEvaluator(labelCol=\"score\", predictionCol=\"prediction\", metricName=\"rmse\")\n",
    "\n",
    "dt_rmse = evaluator.evaluate(y_test_pred)\n",
    "rmse.append(dt_rmse)\n",
    "\n",
    "\n",
    "evaluator = RegressionEvaluator(labelCol=\"score\", predictionCol=\"prediction\", metricName=\"r2\")\n",
    "dt_r2 = evaluator.evaluate(y_test_pred)\n",
    "r2.append(dt_r2)"
   ]
  },
  {
   "cell_type": "code",
   "execution_count": 69,
   "id": "224c855c-ae35-478f-b809-29b6c8b93421",
   "metadata": {
    "tags": []
   },
   "outputs": [
    {
     "name": "stderr",
     "output_type": "stream",
     "text": [
      "[Stage 328:>                                                        (0 + 2) / 2]\r"
     ]
    },
    {
     "name": "stdout",
     "output_type": "stream",
     "text": [
      "23/11/30 03:01:40 WARN InstanceBuilder$NativeBLAS: Failed to load implementation from:dev.ludovic.netlib.blas.JNIBLAS\n",
      "23/11/30 03:01:40 WARN InstanceBuilder$NativeBLAS: Failed to load implementation from:dev.ludovic.netlib.blas.ForeignLinkerBLAS\n"
     ]
    },
    {
     "name": "stderr",
     "output_type": "stream",
     "text": [
      "                                                                                \r"
     ]
    }
   ],
   "source": [
    "# fit data with gradient boosting model\n",
    "model = GBTRegressor(labelCol=\"score\", featuresCol=\"features_norm\", maxDepth = 5)\n",
    "\n",
    "pipeline_model = Pipeline(stages=[stringIndexer_sentiment, \n",
    "                                  stringIndexer_is_self,\n",
    "                                  stringIndexer_stickied,\n",
    "                                  onehot_sentiment,\n",
    "                                  onehot_is_self,\n",
    "                                  onehot_stickied,\n",
    "                                  vector_assembler, \n",
    "                                  scaler,\n",
    "                                  model])\n",
    "\n",
    "model_3 = pipeline_model.fit(train_data)\n",
    "y_test_pred = model_3.transform(test_data)\n",
    "\n",
    "evaluator = RegressionEvaluator(labelCol=\"score\", predictionCol=\"prediction\", metricName=\"rmse\")\n",
    "\n",
    "gb_rmse = evaluator.evaluate(y_test_pred)\n",
    "rmse.append(gb_rmse)\n",
    "\n",
    "\n",
    "evaluator = RegressionEvaluator(labelCol=\"score\", predictionCol=\"prediction\", metricName=\"r2\")\n",
    "gb_r2 = evaluator.evaluate(y_test_pred)\n",
    "r2.append(gb_r2)"
   ]
  },
  {
   "cell_type": "code",
   "execution_count": 71,
   "id": "4f853e5f-4dee-47bb-b2a2-e3933774f73b",
   "metadata": {
    "tags": []
   },
   "outputs": [
    {
     "name": "stderr",
     "output_type": "stream",
     "text": [
      "                                                                                \r"
     ]
    },
    {
     "name": "stdout",
     "output_type": "stream",
     "text": [
      "23/11/30 03:04:36 WARN Instrumentation: [ad8cd9ad] regParam is zero, which might cause numerical instability and overfitting.\n"
     ]
    },
    {
     "name": "stderr",
     "output_type": "stream",
     "text": [
      "                                                                                \r"
     ]
    },
    {
     "name": "stdout",
     "output_type": "stream",
     "text": [
      "23/11/30 03:04:37 WARN InstanceBuilder$NativeLAPACK: Failed to load implementation from:dev.ludovic.netlib.lapack.JNILAPACK\n"
     ]
    },
    {
     "name": "stderr",
     "output_type": "stream",
     "text": [
      "                                                                                \r"
     ]
    }
   ],
   "source": [
    "# fit data with linear model\n",
    "model = GeneralizedLinearRegression(labelCol=\"score\", featuresCol=\"features_norm\", family = 'gaussian')\n",
    "pipeline_model = Pipeline(stages=[stringIndexer_sentiment, \n",
    "                                  stringIndexer_is_self,\n",
    "                                  stringIndexer_stickied,\n",
    "                                  onehot_sentiment,\n",
    "                                  onehot_is_self,\n",
    "                                  onehot_stickied,\n",
    "                                  vector_assembler, \n",
    "                                  scaler,\n",
    "                                  model])\n",
    "\n",
    "model_4 = pipeline_model.fit(train_data)\n",
    "y_test_pred = model_4.transform(test_data)\n",
    "\n",
    "evaluator = RegressionEvaluator(labelCol=\"score\", predictionCol=\"prediction\", metricName=\"rmse\")\n",
    "\n",
    "glm_rmse = evaluator.evaluate(y_test_pred)\n",
    "rmse.append(glm_rmse)\n",
    "\n",
    "\n",
    "evaluator = RegressionEvaluator(labelCol=\"score\", predictionCol=\"prediction\", metricName=\"r2\")\n",
    "glm_r2 = evaluator.evaluate(y_test_pred)\n",
    "r2.append(glm_r2)"
   ]
  },
  {
   "cell_type": "code",
   "execution_count": 76,
   "id": "9dd98909-f134-450d-9223-604453e0f78f",
   "metadata": {
    "tags": []
   },
   "outputs": [
    {
     "data": {
      "image/png": "[encoded data removed]",
      "text/plain": [
       "<Figure size 640x480 with 1 Axes>"
      ]
     },
     "metadata": {},
     "output_type": "display_data"
    }
   ],
   "source": [
    "import matplotlib.pyplot as plt\n",
    "\n",
    "models = ['Random Forest','Decision Tree', 'Gradient Boosting','Generalized Linear Regressor']\n",
    "plt.bar(models,rmse)\n",
    "plt.xlabel('Models')\n",
    "plt.ylabel('RMSE')\n",
    "plt.title('RMSE for different models')\n",
    "plt.xticks(rotation = 30)\n",
    "plt.savefig('yt560_RMSE_summary_table.png')\n",
    "plt.show()"
   ]
  },
  {
   "cell_type": "code",
   "execution_count": 80,
   "id": "fda17f71-2f67-49b5-8ae9-7157cf12e430",
   "metadata": {
    "tags": []
   },
   "outputs": [
    {
     "data": {
      "text/html": [
       "<div>\n",
       "<style scoped>\n",
       "    .dataframe tbody tr th:only-of-type {\n",
       "        vertical-align: middle;\n",
       "    }\n",
       "\n",
       "    .dataframe tbody tr th {\n",
       "        vertical-align: top;\n",
       "    }\n",
       "\n",
       "    .dataframe thead th {\n",
       "        text-align: right;\n",
       "    }\n",
       "</style>\n",
       "<table border=\"1\" class=\"dataframe\">\n",
       "  <thead>\n",
       "    <tr style=\"text-align: right;\">\n",
       "      <th></th>\n",
       "      <th>models</th>\n",
       "      <th>RMSE</th>\n",
       "    </tr>\n",
       "  </thead>\n",
       "  <tbody>\n",
       "    <tr>\n",
       "      <th>0</th>\n",
       "      <td>Random Forest</td>\n",
       "      <td>308.156459</td>\n",
       "    </tr>\n",
       "    <tr>\n",
       "      <th>1</th>\n",
       "      <td>Decision Tree</td>\n",
       "      <td>303.792915</td>\n",
       "    </tr>\n",
       "    <tr>\n",
       "      <th>2</th>\n",
       "      <td>Gradient Boosting</td>\n",
       "      <td>316.153684</td>\n",
       "    </tr>\n",
       "    <tr>\n",
       "      <th>3</th>\n",
       "      <td>Generalized Linear Regressor</td>\n",
       "      <td>415.852005</td>\n",
       "    </tr>\n",
       "  </tbody>\n",
       "</table>\n",
       "</div>"
      ],
      "text/plain": [
       "                         models        RMSE\n",
       "0                 Random Forest  308.156459\n",
       "1                 Decision Tree  303.792915\n",
       "2             Gradient Boosting  316.153684\n",
       "3  Generalized Linear Regressor  415.852005"
      ]
     },
     "execution_count": 80,
     "metadata": {},
     "output_type": "execute_result"
    }
   ],
   "source": [
    "import pandas as pd\n",
    "data = dict(models = models, RMSE = rmse)\n",
    "rmse_df = pd.DataFrame(data)\n",
    "rmse_df"
   ]
  },
  {
   "cell_type": "code",
   "execution_count": 82,
   "id": "42cec69a-5f66-4b5f-9f66-107baa74a92a",
   "metadata": {
    "tags": []
   },
   "outputs": [],
   "source": [
    "rmse_df.to_csv('yt560_RMSE_summary_table.csv')"
   ]
  },
  {
   "cell_type": "code",
   "execution_count": 84,
   "id": "84028275-7bca-4e69-9e3e-25d82e5dad50",
   "metadata": {
    "tags": []
   },
   "outputs": [
    {
     "data": {
      "text/html": [
       "<div>\n",
       "<style scoped>\n",
       "    .dataframe tbody tr th:only-of-type {\n",
       "        vertical-align: middle;\n",
       "    }\n",
       "\n",
       "    .dataframe tbody tr th {\n",
       "        vertical-align: top;\n",
       "    }\n",
       "\n",
       "    .dataframe thead th {\n",
       "        text-align: right;\n",
       "    }\n",
       "</style>\n",
       "<table border=\"1\" class=\"dataframe\">\n",
       "  <thead>\n",
       "    <tr style=\"text-align: right;\">\n",
       "      <th></th>\n",
       "      <th>models</th>\n",
       "      <th>R_squared</th>\n",
       "    </tr>\n",
       "  </thead>\n",
       "  <tbody>\n",
       "    <tr>\n",
       "      <th>0</th>\n",
       "      <td>Random Forest</td>\n",
       "      <td>0.482579</td>\n",
       "    </tr>\n",
       "    <tr>\n",
       "      <th>1</th>\n",
       "      <td>Decision Tree</td>\n",
       "      <td>0.497129</td>\n",
       "    </tr>\n",
       "    <tr>\n",
       "      <th>2</th>\n",
       "      <td>Gradient Boosting</td>\n",
       "      <td>0.455375</td>\n",
       "    </tr>\n",
       "    <tr>\n",
       "      <th>3</th>\n",
       "      <td>Generalized Linear Regressor</td>\n",
       "      <td>0.057722</td>\n",
       "    </tr>\n",
       "  </tbody>\n",
       "</table>\n",
       "</div>"
      ],
      "text/plain": [
       "                         models  R_squared\n",
       "0                 Random Forest   0.482579\n",
       "1                 Decision Tree   0.497129\n",
       "2             Gradient Boosting   0.455375\n",
       "3  Generalized Linear Regressor   0.057722"
      ]
     },
     "execution_count": 84,
     "metadata": {},
     "output_type": "execute_result"
    }
   ],
   "source": [
    "\n",
    "data = dict(models = models, R_squared = r2)\n",
    "r2_df = pd.DataFrame(data)\n",
    "r2_df"
   ]
  },
  {
   "cell_type": "code",
   "execution_count": 85,
   "id": "7aaaf716-41eb-4c1d-8e4b-02e139b70861",
   "metadata": {
    "tags": []
   },
   "outputs": [],
   "source": [
    "r2_df.to_csv('yt560_R2_summary_table.csv')"
   ]
  },
  {
   "cell_type": "code",
   "execution_count": 92,
   "id": "53b5db2f-5f07-4640-81f8-1b710fdc7194",
   "metadata": {
    "tags": []
   },
   "outputs": [],
   "source": [
    "# save the best model for submissions\n",
    "model_2.save('decision_tree_model_submissions')"
   ]
  },
  {
   "cell_type": "code",
   "execution_count": null,
   "id": "9b32c315-7a5f-471f-af93-d43dd79418e9",
   "metadata": {},
   "outputs": [],
   "source": []
  },
  {
   "cell_type": "code",
   "execution_count": 110,
   "id": "6924fbb9-0ff8-42ff-9808-7094044d1104",
   "metadata": {
    "tags": []
   },
   "outputs": [
    {
     "name": "stderr",
     "output_type": "stream",
     "text": [
      "                                                                                \r"
     ]
    }
   ],
   "source": [
    "df = stringIndexer_sentiment.fit(df).transform(df)\n",
    "df = stringIndexer_is_self.fit(df).transform(df)\n",
    "df = stringIndexer_stickied.fit(df).transform(df)\n",
    "df = onehot_sentiment.fit(df).transform(df)\n",
    "df = onehot_is_self.fit(df).transform(df)\n",
    "df = onehot_stickied.fit(df).transform(df)\n",
    "df = vector_assembler.transform(df)\n",
    "df = scaler.fit(df).transform(df)\n",
    "\n",
    "train_data, test_data = df.randomSplit([0.8,0.2],123)"
   ]
  },
  {
   "cell_type": "code",
   "execution_count": 114,
   "id": "b3cdbb63-80dd-4358-9ecf-e3d038de0d9e",
   "metadata": {
    "tags": []
   },
   "outputs": [
    {
     "name": "stderr",
     "output_type": "stream",
     "text": [
      "                                                                                \r"
     ]
    }
   ],
   "source": [
    "dt_model = DecisionTreeRegressor(labelCol=\"score\", featuresCol=\"features_norm\", maxDepth = 5)\n",
    "dt_model = dt_model.fit(train_data)\n",
    "feature_importances = dt_model.featureImportances\n"
   ]
  },
  {
   "cell_type": "code",
   "execution_count": 147,
   "id": "5fb5d743-fe73-43d0-b974-c3a0b36a02a4",
   "metadata": {
    "tags": []
   },
   "outputs": [
    {
     "data": {
      "image/png": "[encoded data removed]",
      "text/plain": [
       "<Figure size 640x480 with 1 Axes>"
      ]
     },
     "metadata": {},
     "output_type": "display_data"
    }
   ],
   "source": [
    "\n",
    "from matplotlib.cm import get_cmap\n",
    "\n",
    "features = ['month','hour','num_comments','num_crossposts','is_self','stickied','sentiment','text_length']\n",
    "\n",
    "feature_importance_table = pd.DataFrame(list(zip(features,feature_importances.toArray())),columns = ['feature_names','importance'])\n",
    "\n",
    "feature_importance_table = feature_importance_table.sort_values(by = 'importance')\n",
    "\n",
    "colors = []\n",
    "cmap = get_cmap('Accent')\n",
    "\n",
    "for i in range(len(features)):\n",
    "    colors.append(cmap(7-i))\n",
    "    \n",
    "plt.barh(feature_importance_table['feature_names'],feature_importance_table['importance'],align = 'center',color = colors)\n",
    "plt.title('Feature Importance for Decision Tree Model')\n",
    "plt.xlabel('Feature Importance')\n",
    "plt.ylabel('Features')\n",
    "plt.savefig('yt560_feature_importance.png')\n",
    "plt.show()\n",
    "\n"
   ]
  },
  {
   "cell_type": "code",
   "execution_count": 129,
   "id": "93f29d63-9a4b-422f-a89d-4dad627ae2db",
   "metadata": {
    "tags": []
   },
   "outputs": [],
   "source": [
    "feature_importance_table.sort_values(by = 'importance',ascending = False).to_csv('feature_importance_table.csv')"
   ]
  },
  {
   "cell_type": "code",
   "execution_count": null,
   "id": "311e95e0-86e1-47d0-8fbf-d0d0a26a1bca",
   "metadata": {},
   "outputs": [],
   "source": []
  },
  {
   "cell_type": "markdown",
   "metadata": {},
   "source": [
    "### Analysis Report\n",
    "\n",
    "To predicting the popularity (the score) of a submission post under Taylor Swift subreddit, variables including `post_month`,`post_hour`,`number_of_comments`,`number_of_crossposts`,`self_post`,`stickied`,`text_sentiment`,`text_length` are considered. Four machine learning models are applied for modeling to find the best description of data, they are Random Forest Regressor, Decision Tree Regressor, Gradient Boosting Regressor, and Generalized Linear Regressor. In the data preparation part, our team applied string-indexer to convert string-type variables into numeric indicies, and applied one-hot encoding to convert numeric indicies to multiple dimentions. Data are rescaled using MinMaxScaler to reduce computing for some algorithms. All the transformation methods (including indexers, one-hot encoding, vector assembler, and scalar) and the model are passed to a pipeline, for faster model building and computing.\n",
    "\n",
    "Models are evaluated under two categories: R-squared and RMSE. The summary tables above represents the different model performances. It is shown that Decision Tree model received the best performance, with the smallest RMSE valued at `303` and the largest R^2 valued at `0.49`. Random Forest and Gradient Boosting models received almost the similiar result as Decision Tree model, but with a slightly bad outcome, the Generalized Linear Model did not fit the data well.\n",
    "\n",
    "Feature importance are examined inside the Decision Tree Regressor model. The horizontal bar plot displays the importance for the variable our team considered. The top three variables affect the dependent variable `score` most are `number of comments`, `is self post`, and `number of crossposts`. Variables like `month` and `text length` have some affect on the model but ont that significant. Variables including `hour`, `stickied`, and `sentiment` are not helpful for predicting final outcomes.\n",
    "\n"
   ]
  }
 ],
 "metadata": {
  "availableInstances": [
   {
    "_defaultOrder": 0,
    "_isFastLaunch": true,
    "category": "General purpose",
    "gpuNum": 0,
    "hideHardwareSpecs": false,
    "memoryGiB": 4,
    "name": "ml.t3.medium",
    "vcpuNum": 2
   },
   {
    "_defaultOrder": 1,
    "_isFastLaunch": false,
    "category": "General purpose",
    "gpuNum": 0,
    "hideHardwareSpecs": false,
    "memoryGiB": 8,
    "name": "ml.t3.large",
    "vcpuNum": 2
   },
   {
    "_defaultOrder": 2,
    "_isFastLaunch": false,
    "category": "General purpose",
    "gpuNum": 0,
    "hideHardwareSpecs": false,
    "memoryGiB": 16,
    "name": "ml.t3.xlarge",
    "vcpuNum": 4
   },
   {
    "_defaultOrder": 3,
    "_isFastLaunch": false,
    "category": "General purpose",
    "gpuNum": 0,
    "hideHardwareSpecs": false,
    "memoryGiB": 32,
    "name": "ml.t3.2xlarge",
    "vcpuNum": 8
   },
   {
    "_defaultOrder": 4,
    "_isFastLaunch": true,
    "category": "General purpose",
    "gpuNum": 0,
    "hideHardwareSpecs": false,
    "memoryGiB": 8,
    "name": "ml.m5.large",
    "vcpuNum": 2
   },
   {
    "_defaultOrder": 5,
    "_isFastLaunch": false,
    "category": "General purpose",
    "gpuNum": 0,
    "hideHardwareSpecs": false,
    "memoryGiB": 16,
    "name": "ml.m5.xlarge",
    "vcpuNum": 4
   },
   {
    "_defaultOrder": 6,
    "_isFastLaunch": false,
    "category": "General purpose",
    "gpuNum": 0,
    "hideHardwareSpecs": false,
    "memoryGiB": 32,
    "name": "ml.m5.2xlarge",
    "vcpuNum": 8
   },
   {
    "_defaultOrder": 7,
    "_isFastLaunch": false,
    "category": "General purpose",
    "gpuNum": 0,
    "hideHardwareSpecs": false,
    "memoryGiB": 64,
    "name": "ml.m5.4xlarge",
    "vcpuNum": 16
   },
   {
    "_defaultOrder": 8,
    "_isFastLaunch": false,
    "category": "General purpose",
    "gpuNum": 0,
    "hideHardwareSpecs": false,
    "memoryGiB": 128,
    "name": "ml.m5.8xlarge",
    "vcpuNum": 32
   },
   {
    "_defaultOrder": 9,
    "_isFastLaunch": false,
    "category": "General purpose",
    "gpuNum": 0,
    "hideHardwareSpecs": false,
    "memoryGiB": 192,
    "name": "ml.m5.12xlarge",
    "vcpuNum": 48
   },
   {
    "_defaultOrder": 10,
    "_isFastLaunch": false,
    "category": "General purpose",
    "gpuNum": 0,
    "hideHardwareSpecs": false,
    "memoryGiB": 256,
    "name": "ml.m5.16xlarge",
    "vcpuNum": 64
   },
   {
    "_defaultOrder": 11,
    "_isFastLaunch": false,
    "category": "General purpose",
    "gpuNum": 0,
    "hideHardwareSpecs": false,
    "memoryGiB": 384,
    "name": "ml.m5.24xlarge",
    "vcpuNum": 96
   },
   {
    "_defaultOrder": 12,
    "_isFastLaunch": false,
    "category": "General purpose",
    "gpuNum": 0,
    "hideHardwareSpecs": false,
    "memoryGiB": 8,
    "name": "ml.m5d.large",
    "vcpuNum": 2
   },
   {
    "_defaultOrder": 13,
    "_isFastLaunch": false,
    "category": "General purpose",
    "gpuNum": 0,
    "hideHardwareSpecs": false,
    "memoryGiB": 16,
    "name": "ml.m5d.xlarge",
    "vcpuNum": 4
   },
   {
    "_defaultOrder": 14,
    "_isFastLaunch": false,
    "category": "General purpose",
    "gpuNum": 0,
    "hideHardwareSpecs": false,
    "memoryGiB": 32,
    "name": "ml.m5d.2xlarge",
    "vcpuNum": 8
   },
   {
    "_defaultOrder": 15,
    "_isFastLaunch": false,
    "category": "General purpose",
    "gpuNum": 0,
    "hideHardwareSpecs": false,
    "memoryGiB": 64,
    "name": "ml.m5d.4xlarge",
    "vcpuNum": 16
   },
   {
    "_defaultOrder": 16,
    "_isFastLaunch": false,
    "category": "General purpose",
    "gpuNum": 0,
    "hideHardwareSpecs": false,
    "memoryGiB": 128,
    "name": "ml.m5d.8xlarge",
    "vcpuNum": 32
   },
   {
    "_defaultOrder": 17,
    "_isFastLaunch": false,
    "category": "General purpose",
    "gpuNum": 0,
    "hideHardwareSpecs": false,
    "memoryGiB": 192,
    "name": "ml.m5d.12xlarge",
    "vcpuNum": 48
   },
   {
    "_defaultOrder": 18,
    "_isFastLaunch": false,
    "category": "General purpose",
    "gpuNum": 0,
    "hideHardwareSpecs": false,
    "memoryGiB": 256,
    "name": "ml.m5d.16xlarge",
    "vcpuNum": 64
   },
   {
    "_defaultOrder": 19,
    "_isFastLaunch": false,
    "category": "General purpose",
    "gpuNum": 0,
    "hideHardwareSpecs": false,
    "memoryGiB": 384,
    "name": "ml.m5d.24xlarge",
    "vcpuNum": 96
   },
   {
    "_defaultOrder": 20,
    "_isFastLaunch": false,
    "category": "General purpose",
    "gpuNum": 0,
    "hideHardwareSpecs": true,
    "memoryGiB": 0,
    "name": "ml.geospatial.interactive",
    "supportedImageNames": [
     "sagemaker-geospatial-v1-0"
    ],
    "vcpuNum": 0
   },
   {
    "_defaultOrder": 21,
    "_isFastLaunch": true,
    "category": "Compute optimized",
    "gpuNum": 0,
    "hideHardwareSpecs": false,
    "memoryGiB": 4,
    "name": "ml.c5.large",
    "vcpuNum": 2
   },
   {
    "_defaultOrder": 22,
    "_isFastLaunch": false,
    "category": "Compute optimized",
    "gpuNum": 0,
    "hideHardwareSpecs": false,
    "memoryGiB": 8,
    "name": "ml.c5.xlarge",
    "vcpuNum": 4
   },
   {
    "_defaultOrder": 23,
    "_isFastLaunch": false,
    "category": "Compute optimized",
    "gpuNum": 0,
    "hideHardwareSpecs": false,
    "memoryGiB": 16,
    "name": "ml.c5.2xlarge",
    "vcpuNum": 8
   },
   {
    "_defaultOrder": 24,
    "_isFastLaunch": false,
    "category": "Compute optimized",
    "gpuNum": 0,
    "hideHardwareSpecs": false,
    "memoryGiB": 32,
    "name": "ml.c5.4xlarge",
    "vcpuNum": 16
   },
   {
    "_defaultOrder": 25,
    "_isFastLaunch": false,
    "category": "Compute optimized",
    "gpuNum": 0,
    "hideHardwareSpecs": false,
    "memoryGiB": 72,
    "name": "ml.c5.9xlarge",
    "vcpuNum": 36
   },
   {
    "_defaultOrder": 26,
    "_isFastLaunch": false,
    "category": "Compute optimized",
    "gpuNum": 0,
    "hideHardwareSpecs": false,
    "memoryGiB": 96,
    "name": "ml.c5.12xlarge",
    "vcpuNum": 48
   },
   {
    "_defaultOrder": 27,
    "_isFastLaunch": false,
    "category": "Compute optimized",
    "gpuNum": 0,
    "hideHardwareSpecs": false,
    "memoryGiB": 144,
    "name": "ml.c5.18xlarge",
    "vcpuNum": 72
   },
   {
    "_defaultOrder": 28,
    "_isFastLaunch": false,
    "category": "Compute optimized",
    "gpuNum": 0,
    "hideHardwareSpecs": false,
    "memoryGiB": 192,
    "name": "ml.c5.24xlarge",
    "vcpuNum": 96
   },
   {
    "_defaultOrder": 29,
    "_isFastLaunch": true,
    "category": "Accelerated computing",
    "gpuNum": 1,
    "hideHardwareSpecs": false,
    "memoryGiB": 16,
    "name": "ml.g4dn.xlarge",
    "vcpuNum": 4
   },
   {
    "_defaultOrder": 30,
    "_isFastLaunch": false,
    "category": "Accelerated computing",
    "gpuNum": 1,
    "hideHardwareSpecs": false,
    "memoryGiB": 32,
    "name": "ml.g4dn.2xlarge",
    "vcpuNum": 8
   },
   {
    "_defaultOrder": 31,
    "_isFastLaunch": false,
    "category": "Accelerated computing",
    "gpuNum": 1,
    "hideHardwareSpecs": false,
    "memoryGiB": 64,
    "name": "ml.g4dn.4xlarge",
    "vcpuNum": 16
   },
   {
    "_defaultOrder": 32,
    "_isFastLaunch": false,
    "category": "Accelerated computing",
    "gpuNum": 1,
    "hideHardwareSpecs": false,
    "memoryGiB": 128,
    "name": "ml.g4dn.8xlarge",
    "vcpuNum": 32
   },
   {
    "_defaultOrder": 33,
    "_isFastLaunch": false,
    "category": "Accelerated computing",
    "gpuNum": 4,
    "hideHardwareSpecs": false,
    "memoryGiB": 192,
    "name": "ml.g4dn.12xlarge",
    "vcpuNum": 48
   },
   {
    "_defaultOrder": 34,
    "_isFastLaunch": false,
    "category": "Accelerated computing",
    "gpuNum": 1,
    "hideHardwareSpecs": false,
    "memoryGiB": 256,
    "name": "ml.g4dn.16xlarge",
    "vcpuNum": 64
   },
   {
    "_defaultOrder": 35,
    "_isFastLaunch": false,
    "category": "Accelerated computing",
    "gpuNum": 1,
    "hideHardwareSpecs": false,
    "memoryGiB": 61,
    "name": "ml.p3.2xlarge",
    "vcpuNum": 8
   },
   {
    "_defaultOrder": 36,
    "_isFastLaunch": false,
    "category": "Accelerated computing",
    "gpuNum": 4,
    "hideHardwareSpecs": false,
    "memoryGiB": 244,
    "name": "ml.p3.8xlarge",
    "vcpuNum": 32
   },
   {
    "_defaultOrder": 37,
    "_isFastLaunch": false,
    "category": "Accelerated computing",
    "gpuNum": 8,
    "hideHardwareSpecs": false,
    "memoryGiB": 488,
    "name": "ml.p3.16xlarge",
    "vcpuNum": 64
   },
   {
    "_defaultOrder": 38,
    "_isFastLaunch": false,
    "category": "Accelerated computing",
    "gpuNum": 8,
    "hideHardwareSpecs": false,
    "memoryGiB": 768,
    "name": "ml.p3dn.24xlarge",
    "vcpuNum": 96
   },
   {
    "_defaultOrder": 39,
    "_isFastLaunch": false,
    "category": "Memory Optimized",
    "gpuNum": 0,
    "hideHardwareSpecs": false,
    "memoryGiB": 16,
    "name": "ml.r5.large",
    "vcpuNum": 2
   },
   {
    "_defaultOrder": 40,
    "_isFastLaunch": false,
    "category": "Memory Optimized",
    "gpuNum": 0,
    "hideHardwareSpecs": false,
    "memoryGiB": 32,
    "name": "ml.r5.xlarge",
    "vcpuNum": 4
   },
   {
    "_defaultOrder": 41,
    "_isFastLaunch": false,
    "category": "Memory Optimized",
    "gpuNum": 0,
    "hideHardwareSpecs": false,
    "memoryGiB": 64,
    "name": "ml.r5.2xlarge",
    "vcpuNum": 8
   },
   {
    "_defaultOrder": 42,
    "_isFastLaunch": false,
    "category": "Memory Optimized",
    "gpuNum": 0,
    "hideHardwareSpecs": false,
    "memoryGiB": 128,
    "name": "ml.r5.4xlarge",
    "vcpuNum": 16
   },
   {
    "_defaultOrder": 43,
    "_isFastLaunch": false,
    "category": "Memory Optimized",
    "gpuNum": 0,
    "hideHardwareSpecs": false,
    "memoryGiB": 256,
    "name": "ml.r5.8xlarge",
    "vcpuNum": 32
   },
   {
    "_defaultOrder": 44,
    "_isFastLaunch": false,
    "category": "Memory Optimized",
    "gpuNum": 0,
    "hideHardwareSpecs": false,
    "memoryGiB": 384,
    "name": "ml.r5.12xlarge",
    "vcpuNum": 48
   },
   {
    "_defaultOrder": 45,
    "_isFastLaunch": false,
    "category": "Memory Optimized",
    "gpuNum": 0,
    "hideHardwareSpecs": false,
    "memoryGiB": 512,
    "name": "ml.r5.16xlarge",
    "vcpuNum": 64
   },
   {
    "_defaultOrder": 46,
    "_isFastLaunch": false,
    "category": "Memory Optimized",
    "gpuNum": 0,
    "hideHardwareSpecs": false,
    "memoryGiB": 768,
    "name": "ml.r5.24xlarge",
    "vcpuNum": 96
   },
   {
    "_defaultOrder": 47,
    "_isFastLaunch": false,
    "category": "Accelerated computing",
    "gpuNum": 1,
    "hideHardwareSpecs": false,
    "memoryGiB": 16,
    "name": "ml.g5.xlarge",
    "vcpuNum": 4
   },
   {
    "_defaultOrder": 48,
    "_isFastLaunch": false,
    "category": "Accelerated computing",
    "gpuNum": 1,
    "hideHardwareSpecs": false,
    "memoryGiB": 32,
    "name": "ml.g5.2xlarge",
    "vcpuNum": 8
   },
   {
    "_defaultOrder": 49,
    "_isFastLaunch": false,
    "category": "Accelerated computing",
    "gpuNum": 1,
    "hideHardwareSpecs": false,
    "memoryGiB": 64,
    "name": "ml.g5.4xlarge",
    "vcpuNum": 16
   },
   {
    "_defaultOrder": 50,
    "_isFastLaunch": false,
    "category": "Accelerated computing",
    "gpuNum": 1,
    "hideHardwareSpecs": false,
    "memoryGiB": 128,
    "name": "ml.g5.8xlarge",
    "vcpuNum": 32
   },
   {
    "_defaultOrder": 51,
    "_isFastLaunch": false,
    "category": "Accelerated computing",
    "gpuNum": 1,
    "hideHardwareSpecs": false,
    "memoryGiB": 256,
    "name": "ml.g5.16xlarge",
    "vcpuNum": 64
   },
   {
    "_defaultOrder": 52,
    "_isFastLaunch": false,
    "category": "Accelerated computing",
    "gpuNum": 4,
    "hideHardwareSpecs": false,
    "memoryGiB": 192,
    "name": "ml.g5.12xlarge",
    "vcpuNum": 48
   },
   {
    "_defaultOrder": 53,
    "_isFastLaunch": false,
    "category": "Accelerated computing",
    "gpuNum": 4,
    "hideHardwareSpecs": false,
    "memoryGiB": 384,
    "name": "ml.g5.24xlarge",
    "vcpuNum": 96
   },
   {
    "_defaultOrder": 54,
    "_isFastLaunch": false,
    "category": "Accelerated computing",
    "gpuNum": 8,
    "hideHardwareSpecs": false,
    "memoryGiB": 768,
    "name": "ml.g5.48xlarge",
    "vcpuNum": 192
   },
   {
    "_defaultOrder": 55,
    "_isFastLaunch": false,
    "category": "Accelerated computing",
    "gpuNum": 8,
    "hideHardwareSpecs": false,
    "memoryGiB": 1152,
    "name": "ml.p4d.24xlarge",
    "vcpuNum": 96
   },
   {
    "_defaultOrder": 56,
    "_isFastLaunch": false,
    "category": "Accelerated computing",
    "gpuNum": 8,
    "hideHardwareSpecs": false,
    "memoryGiB": 1152,
    "name": "ml.p4de.24xlarge",
    "vcpuNum": 96
   },
   {
    "_defaultOrder": 57,
    "_isFastLaunch": false,
    "category": "Accelerated computing",
    "gpuNum": 0,
    "hideHardwareSpecs": false,
    "memoryGiB": 32,
    "name": "ml.trn1.2xlarge",
    "vcpuNum": 8
   },
   {
    "_defaultOrder": 58,
    "_isFastLaunch": false,
    "category": "Accelerated computing",
    "gpuNum": 0,
    "hideHardwareSpecs": false,
    "memoryGiB": 512,
    "name": "ml.trn1.32xlarge",
    "vcpuNum": 128
   },
   {
    "_defaultOrder": 59,
    "_isFastLaunch": false,
    "category": "Accelerated computing",
    "gpuNum": 0,
    "hideHardwareSpecs": false,
    "memoryGiB": 512,
    "name": "ml.trn1n.32xlarge",
    "vcpuNum": 128
   }
  ],
  "instance_type": "ml.t3.large",
  "kernelspec": {
   "display_name": "Python 3 (Data Science 3.0)",
   "language": "python",
   "name": "python3__SAGEMAKER_INTERNAL__arn:aws:sagemaker:us-east-1:081325390199:image/sagemaker-data-science-310-v1"
  },
  "language_info": {
   "codemirror_mode": {
    "name": "ipython",
    "version": 3
   },
   "file_extension": ".py",
   "mimetype": "text/x-python",
   "name": "python",
   "nbconvert_exporter": "python",
   "pygments_lexer": "ipython3",
   "version": "3.10.6"
  }
 },
 "nbformat": 4,
 "nbformat_minor": 5
}
